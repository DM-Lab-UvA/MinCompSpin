{
 "cells": [
  {
   "cell_type": "markdown",
   "metadata": {},
   "source": [
    "## Tutorial for using the python bindings"
   ]
  },
  {
   "cell_type": "code",
   "execution_count": 5,
   "metadata": {},
   "outputs": [],
   "source": [
    "from mcm_py import Data, Model, MCMSearch\n",
    "import numpy as np"
   ]
  },
  {
   "cell_type": "markdown",
   "metadata": {},
   "source": [
    "### Partition"
   ]
  },
  {
   "cell_type": "markdown",
   "metadata": {},
   "source": [
    "The partition of a set of variables can be represented in two different ways.\n",
    "- The first option is to use a 2D binary numpy array. In this form each row represents an ICC and each column a variable. <br>\n",
    "If a variable is present in a component, the corresponding element is one and zero otherwise. To give an example: \n",
    "\n",
    "    `partition = np.array([[1,0,1,0,1,1,0,1,0], [0,1,0,1,0,0,0,0,0], [0,0,0,0,0,0,1,0,1]])`\n",
    "\n",
    "    This is a partition of 9 variables. The first component contains variables 0, 2, 4, 5 and 7. <br>\n",
    "    The second components consists of variables 1 and 3. Variables 6 and 8 are present in the third component.\n",
    "\n",
    "- The second option is to use a 1D numpy array with values between 0 and n-1. In this form the elements correspond to the component index in which each variable is present. To indicate that a variable is not present in the model, the component index `-1` is used.<br>\n",
    "The same partition as in the example in this form would be:\n",
    "\n",
    "    `partition = np.array([0,1,0,1,0,0,2,0,2])`"
   ]
  },
  {
   "cell_type": "markdown",
   "metadata": {},
   "source": [
    "### Data"
   ]
  },
  {
   "cell_type": "markdown",
   "metadata": {},
   "source": [
    "The Data class is responsible for storing the dataset and provides several statistical methods.  \n",
    "\n",
    "#### Initialization\n",
    "\n",
    "An object of this class is initialized with:\n",
    "- `filename`: the path to the file containing the dataset\n",
    "- `n`: the number of variables in the system (the maximum system size is 128)\n",
    "- `q`: the number of states each variable can take\n"
   ]
  },
  {
   "cell_type": "code",
   "execution_count": 2,
   "metadata": {},
   "outputs": [
    {
     "name": "stdout",
     "output_type": "stream",
     "text": [
      "The dataset contains 895 datapoints, of which 128 different ones.\n"
     ]
    }
   ],
   "source": [
    "n = 9\n",
    "q = 2\n",
    "data = Data('../input/US_SupremeCourt_n9_N895.dat', n, q)\n",
    "\n",
    "print(\"The dataset contains %i datapoints, of which %i different ones.\" %(data.N, data.N_unique))"
   ]
  },
  {
   "cell_type": "markdown",
   "metadata": {},
   "source": [
    "#### Entropy\n",
    "\n",
    "One statistical property that we can get is the entropy of the dataset. The default logarithmic base that is used in the calculation of the entropy is base $q$."
   ]
  },
  {
   "cell_type": "code",
   "execution_count": 3,
   "metadata": {},
   "outputs": [
    {
     "data": {
      "text/plain": [
       "4.411845516595921"
      ]
     },
     "execution_count": 3,
     "metadata": {},
     "output_type": "execute_result"
    }
   ],
   "source": [
    "data.entropy()"
   ]
  },
  {
   "cell_type": "code",
   "execution_count": 4,
   "metadata": {},
   "outputs": [
    {
     "data": {
      "text/plain": [
       "1.3280978367310246"
      ]
     },
     "execution_count": 4,
     "metadata": {},
     "output_type": "execute_result"
    }
   ],
   "source": [
    "data.entropy(base=10)"
   ]
  },
  {
   "cell_type": "markdown",
   "metadata": {},
   "source": [
    "#### Log-evidence\n",
    "\n",
    "The Data object also contains methods to calculate the log-evidence of a given partition of the variables:\n",
    "- `.log_evidence()` returns the total log-evidence of the partition.\n",
    "- `.log_evidence_icc()` returns the log-evidence of each ICC as an array.\n",
    "\n",
    "Both functions take as an argument a partition of the variables\n",
    "\n",
    "NOTE that no check is done to see if the given partition is valid. <br>\n",
    "In the next section, we discuss Model objects. These can also be used as argument in these methods and are guarenteed to have a valid partition."
   ]
  },
  {
   "cell_type": "code",
   "execution_count": 5,
   "metadata": {},
   "outputs": [
    {
     "data": {
      "text/plain": [
       "-4121.7115195691"
      ]
     },
     "execution_count": 5,
     "metadata": {},
     "output_type": "execute_result"
    }
   ],
   "source": [
    "partition_array = np.array([[1,0,1,0,1,1,0,1,0], [0,1,0,1,0,0,0,0,0], [0,0,0,0,0,0,1,0,1]])\n",
    "data.log_evidence(partition_array)"
   ]
  },
  {
   "cell_type": "code",
   "execution_count": 6,
   "metadata": {},
   "outputs": [
    {
     "data": {
      "text/plain": [
       "-4121.7115195691"
      ]
     },
     "execution_count": 6,
     "metadata": {},
     "output_type": "execute_result"
    }
   ],
   "source": [
    "partition_gray_code = np.array([0,1,0,1,0,0,2,0,2])\n",
    "data.log_evidence(partition_gray_code)"
   ]
  },
  {
   "cell_type": "code",
   "execution_count": 7,
   "metadata": {},
   "outputs": [
    {
     "data": {
      "text/plain": [
       "array([-1934.44276091, -1093.07714883, -1094.19160984])"
      ]
     },
     "execution_count": 7,
     "metadata": {},
     "output_type": "execute_result"
    }
   ],
   "source": [
    "data.log_evidence_icc(partition_array)"
   ]
  },
  {
   "cell_type": "code",
   "execution_count": 8,
   "metadata": {},
   "outputs": [
    {
     "data": {
      "text/plain": [
       "array([-1934.44276091, -1093.07714883, -1094.19160984])"
      ]
     },
     "execution_count": 8,
     "metadata": {},
     "output_type": "execute_result"
    }
   ],
   "source": [
    "data.log_evidence_icc(partition_gray_code)"
   ]
  },
  {
   "cell_type": "markdown",
   "metadata": {},
   "source": [
    "### Model"
   ]
  },
  {
   "cell_type": "markdown",
   "metadata": {},
   "source": [
    "The Model class contains a partition of $n$ variables, some of its properties and methods to manipulate the partition.\n",
    "\n",
    "#### Initialization\n",
    "\n",
    "An object of this class has several initialization options.<br><br>\n",
    "Option 1:\n",
    "- `n`: the number of variables in the system (the maximum system size is 128). The independent model is used as the default partition.\n",
    "\n",
    "Option 2:\n",
    "- `n`: the number of variables in the system (the maximum system size is 128).\n",
    "- `partition`: A specific partition of the n variables given as a numpy array.\n",
    "\n",
    "Option 3:\n",
    "- `n`: the number of variables in the system (the maximum system size is 128).\n",
    "- `partition`: A partition type given as a string. Options are:\n",
    "    - \"independent\": all variables in a separate component\n",
    "    - \"complete\": all variables in a single component\n",
    "    - \"random\": each variable is assigned to a random component\n",
    "\n",
    "The partition of the model can be returned as a 2D binary numpy array using `.array`"
   ]
  },
  {
   "cell_type": "code",
   "execution_count": 9,
   "metadata": {},
   "outputs": [
    {
     "data": {
      "text/plain": [
       "array([[1, 0, 0, 0, 0, 0, 0, 0, 0],\n",
       "       [0, 1, 0, 0, 0, 0, 0, 0, 0],\n",
       "       [0, 0, 1, 0, 0, 0, 0, 0, 0],\n",
       "       [0, 0, 0, 1, 0, 0, 0, 0, 0],\n",
       "       [0, 0, 0, 0, 1, 0, 0, 0, 0],\n",
       "       [0, 0, 0, 0, 0, 1, 0, 0, 0],\n",
       "       [0, 0, 0, 0, 0, 0, 1, 0, 0],\n",
       "       [0, 0, 0, 0, 0, 0, 0, 1, 0],\n",
       "       [0, 0, 0, 0, 0, 0, 0, 0, 1]], dtype=int8)"
      ]
     },
     "execution_count": 9,
     "metadata": {},
     "output_type": "execute_result"
    }
   ],
   "source": [
    "model = Model(n)\n",
    "model.array"
   ]
  },
  {
   "cell_type": "code",
   "execution_count": 10,
   "metadata": {},
   "outputs": [
    {
     "data": {
      "text/plain": [
       "array([0, 1, 2, 3, 4, 5, 6, 7, 8], dtype=int8)"
      ]
     },
     "execution_count": 10,
     "metadata": {},
     "output_type": "execute_result"
    }
   ],
   "source": [
    "model.array_gray_code"
   ]
  },
  {
   "cell_type": "code",
   "execution_count": 11,
   "metadata": {},
   "outputs": [
    {
     "data": {
      "text/plain": [
       "array([[1, 0, 1, 0, 1, 1, 0, 1, 0],\n",
       "       [0, 1, 0, 1, 0, 0, 0, 0, 0],\n",
       "       [0, 0, 0, 0, 0, 0, 1, 0, 1]], dtype=int8)"
      ]
     },
     "execution_count": 11,
     "metadata": {},
     "output_type": "execute_result"
    }
   ],
   "source": [
    "model = Model(n, partition_array)\n",
    "model.array"
   ]
  },
  {
   "cell_type": "code",
   "execution_count": 12,
   "metadata": {},
   "outputs": [
    {
     "data": {
      "text/plain": [
       "array([0, 1, 0, 1, 0, 0, 2, 0, 2], dtype=int8)"
      ]
     },
     "execution_count": 12,
     "metadata": {},
     "output_type": "execute_result"
    }
   ],
   "source": [
    "model.array_gray_code"
   ]
  },
  {
   "cell_type": "markdown",
   "metadata": {},
   "source": [
    "As mentioned in the previous section, this can be used as argument in the function to calculate the log-evidence"
   ]
  },
  {
   "cell_type": "code",
   "execution_count": 13,
   "metadata": {},
   "outputs": [
    {
     "data": {
      "text/plain": [
       "-4121.7115195691"
      ]
     },
     "execution_count": 13,
     "metadata": {},
     "output_type": "execute_result"
    }
   ],
   "source": [
    "data.log_evidence(model)"
   ]
  },
  {
   "cell_type": "code",
   "execution_count": 14,
   "metadata": {},
   "outputs": [
    {
     "data": {
      "text/plain": [
       "array([-1934.44276091, -1093.07714883, -1094.19160984])"
      ]
     },
     "execution_count": 14,
     "metadata": {},
     "output_type": "execute_result"
    }
   ],
   "source": [
    "data.log_evidence_icc(model)"
   ]
  },
  {
   "cell_type": "code",
   "execution_count": 15,
   "metadata": {},
   "outputs": [
    {
     "name": "stdout",
     "output_type": "stream",
     "text": [
      "The 9 variables are divided into 5 components\n"
     ]
    },
    {
     "data": {
      "text/plain": [
       "array([[0, 0, 0, 1, 1, 0, 0, 1, 0],\n",
       "       [0, 0, 1, 0, 0, 0, 0, 0, 0],\n",
       "       [0, 0, 0, 0, 0, 0, 1, 0, 0],\n",
       "       [1, 0, 0, 0, 0, 0, 0, 0, 1],\n",
       "       [0, 1, 0, 0, 0, 1, 0, 0, 0]], dtype=int8)"
      ]
     },
     "execution_count": 15,
     "metadata": {},
     "output_type": "execute_result"
    }
   ],
   "source": [
    "model2 = Model(n, \"random\")\n",
    "print(\"The %i variables are divided into %i components\" %(model2.n, model2.n_icc))\n",
    "model2.array"
   ]
  },
  {
   "cell_type": "markdown",
   "metadata": {},
   "source": [
    "The partition in the array can be reset by giving a new partition as a 2D binary numpy array."
   ]
  },
  {
   "cell_type": "code",
   "execution_count": 16,
   "metadata": {},
   "outputs": [
    {
     "data": {
      "text/plain": [
       "array([[0, 0, 0, 1, 1, 0, 0, 1, 0],\n",
       "       [0, 0, 1, 0, 0, 0, 0, 0, 0],\n",
       "       [0, 0, 0, 0, 0, 0, 1, 0, 0],\n",
       "       [1, 0, 0, 0, 0, 0, 0, 0, 1],\n",
       "       [0, 1, 0, 0, 0, 1, 0, 0, 0]], dtype=int8)"
      ]
     },
     "execution_count": 16,
     "metadata": {},
     "output_type": "execute_result"
    }
   ],
   "source": [
    "model.array = model2.array\n",
    "model.array"
   ]
  },
  {
   "cell_type": "markdown",
   "metadata": {},
   "source": [
    "Note that element-wise manipulation of model.array doesn't change the partition inside the model.\n",
    "Manipulation of the partition can be done using the built-in methods:\n",
    "- `move_variable_in(var_index, comp_index)` : Add the variable `var_index` to component `comp_index`\n",
    "- `move_variable_out(var_index)` : Remove the variable `var_index`\n",
    "- `move_varialbe(var_index, comp_index)` : Move the variable `var_index` to component `comp_index`"
   ]
  },
  {
   "cell_type": "code",
   "execution_count": 17,
   "metadata": {},
   "outputs": [
    {
     "data": {
      "text/plain": [
       "array([[1, 1, 1, 1, 1, 1, 1, 1, 1]], dtype=int8)"
      ]
     },
     "execution_count": 17,
     "metadata": {},
     "output_type": "execute_result"
    }
   ],
   "source": [
    "model = Model(n, \"complete\")\n",
    "model.array"
   ]
  },
  {
   "cell_type": "code",
   "execution_count": 18,
   "metadata": {},
   "outputs": [
    {
     "data": {
      "text/plain": [
       "array([[0, 1, 1, 1, 1, 1, 1, 1, 1]], dtype=int8)"
      ]
     },
     "execution_count": 18,
     "metadata": {},
     "output_type": "execute_result"
    }
   ],
   "source": [
    "model.move_variable_out(0)\n",
    "model.array"
   ]
  },
  {
   "cell_type": "code",
   "execution_count": 19,
   "metadata": {},
   "outputs": [
    {
     "data": {
      "text/plain": [
       "array([[0, 1, 1, 1, 1, 1, 1, 0, 1],\n",
       "       [0, 0, 0, 0, 0, 0, 0, 1, 0]], dtype=int8)"
      ]
     },
     "execution_count": 19,
     "metadata": {},
     "output_type": "execute_result"
    }
   ],
   "source": [
    "model.move_variable(7,1)\n",
    "model.array"
   ]
  },
  {
   "cell_type": "code",
   "execution_count": 20,
   "metadata": {},
   "outputs": [
    {
     "data": {
      "text/plain": [
       "array([[0, 1, 1, 1, 1, 1, 1, 0, 1],\n",
       "       [0, 0, 0, 0, 0, 0, 0, 1, 0],\n",
       "       [1, 0, 0, 0, 0, 0, 0, 0, 0]], dtype=int8)"
      ]
     },
     "execution_count": 20,
     "metadata": {},
     "output_type": "execute_result"
    }
   ],
   "source": [
    "model.move_variable_in(0, 2)\n",
    "model.array"
   ]
  },
  {
   "cell_type": "markdown",
   "metadata": {},
   "source": [
    "Note that the Model class contains several other members related to the best log-evidence. However, these are only accesible if the object is the result of a search (see next section). "
   ]
  },
  {
   "cell_type": "code",
   "execution_count": 21,
   "metadata": {},
   "outputs": [
    {
     "data": {
      "text/plain": [
       "False"
      ]
     },
     "execution_count": 21,
     "metadata": {},
     "output_type": "execute_result"
    }
   ],
   "source": [
    "model.is_optimized"
   ]
  },
  {
   "cell_type": "code",
   "execution_count": 22,
   "metadata": {},
   "outputs": [
    {
     "ename": "RuntimeError",
     "evalue": "No search has been ran yet.",
     "output_type": "error",
     "traceback": [
      "\u001b[0;31m---------------------------------------------------------------------------\u001b[0m",
      "\u001b[0;31mRuntimeError\u001b[0m                              Traceback (most recent call last)",
      "Cell \u001b[0;32mIn[22], line 1\u001b[0m\n\u001b[0;32m----> 1\u001b[0m model\u001b[38;5;241m.\u001b[39mget_best_log_evidence()\n",
      "\u001b[0;31mRuntimeError\u001b[0m: No search has been ran yet."
     ]
    }
   ],
   "source": [
    "model.get_best_log_evidence()"
   ]
  },
  {
   "cell_type": "markdown",
   "metadata": {},
   "source": [
    "### MCMSearch"
   ]
  },
  {
   "cell_type": "markdown",
   "metadata": {},
   "source": [
    "The MCMSearch class is responsible for finding the best partition of the variables for a given dataset.\n",
    "It has to be initialized without any arguments and contains several search methods: greedy search, divide and conquer, simulated annealing and exhaustive search."
   ]
  },
  {
   "cell_type": "code",
   "execution_count": 2,
   "metadata": {},
   "outputs": [],
   "source": [
    "searcher = MCMSearch()"
   ]
  },
  {
   "cell_type": "markdown",
   "metadata": {},
   "source": [
    "#### Greedy search"
   ]
  },
  {
   "cell_type": "markdown",
   "metadata": {},
   "source": [
    "The greedy search method consists of an iterative merging procedure.\n",
    "It calculates how much the log-evidence would change if any two components would merge.\n",
    "The merging of two components that leads to the largest increase in log-evidence is chosen as the starting point in the next iteration. If none of the mergings results in an improved log-evidence, the algorithm stops.\n",
    "\n",
    "The methods requires a Data object as argument and optionally a Model object from which the partition is used as the starting partition of the algorithm.\n",
    "If no Model object is given, the independent model is chosen as the starting partition."
   ]
  },
  {
   "cell_type": "code",
   "execution_count": 24,
   "metadata": {},
   "outputs": [],
   "source": [
    "final_model = searcher.greedy_search(data)"
   ]
  },
  {
   "cell_type": "code",
   "execution_count": 25,
   "metadata": {},
   "outputs": [],
   "source": [
    "init_model = searcher.get_model_in()"
   ]
  },
  {
   "cell_type": "code",
   "execution_count": 26,
   "metadata": {},
   "outputs": [
    {
     "name": "stdout",
     "output_type": "stream",
     "text": [
      "The starting partition of the algorithm is:\n"
     ]
    },
    {
     "data": {
      "text/plain": [
       "array([[1, 0, 0, 0, 0, 0, 0, 0, 0],\n",
       "       [0, 1, 0, 0, 0, 0, 0, 0, 0],\n",
       "       [0, 0, 1, 0, 0, 0, 0, 0, 0],\n",
       "       [0, 0, 0, 1, 0, 0, 0, 0, 0],\n",
       "       [0, 0, 0, 0, 1, 0, 0, 0, 0],\n",
       "       [0, 0, 0, 0, 0, 1, 0, 0, 0],\n",
       "       [0, 0, 0, 0, 0, 0, 1, 0, 0],\n",
       "       [0, 0, 0, 0, 0, 0, 0, 1, 0],\n",
       "       [0, 0, 0, 0, 0, 0, 0, 0, 1]], dtype=int8)"
      ]
     },
     "execution_count": 26,
     "metadata": {},
     "output_type": "execute_result"
    }
   ],
   "source": [
    "print(\"The starting partition of the algorithm is:\")\n",
    "init_model.array"
   ]
  },
  {
   "cell_type": "code",
   "execution_count": 27,
   "metadata": {},
   "outputs": [
    {
     "name": "stdout",
     "output_type": "stream",
     "text": [
      "The optimal partition of the variables found by the greedy search is:\n"
     ]
    },
    {
     "data": {
      "text/plain": [
       "array([[1, 0, 1, 1, 1, 0, 1, 0, 0],\n",
       "       [0, 1, 0, 0, 0, 1, 0, 1, 1]], dtype=int8)"
      ]
     },
     "execution_count": 27,
     "metadata": {},
     "output_type": "execute_result"
    }
   ],
   "source": [
    "print(\"The optimal partition of the variables found by the greedy search is:\")\n",
    "final_model.array"
   ]
  },
  {
   "cell_type": "code",
   "execution_count": 28,
   "metadata": {},
   "outputs": [
    {
     "data": {
      "text/plain": [
       "-3300.395469673639"
      ]
     },
     "execution_count": 28,
     "metadata": {},
     "output_type": "execute_result"
    }
   ],
   "source": [
    "final_model.get_best_log_evidence()"
   ]
  },
  {
   "cell_type": "code",
   "execution_count": 29,
   "metadata": {},
   "outputs": [
    {
     "data": {
      "text/plain": [
       "array([-1754.41166022, -1545.98380945])"
      ]
     },
     "execution_count": 29,
     "metadata": {},
     "output_type": "execute_result"
    }
   ],
   "source": [
    "final_model.get_best_log_evidence_icc()"
   ]
  },
  {
   "cell_type": "markdown",
   "metadata": {},
   "source": [
    "#### Divide and conquer\n",
    "\n",
    "The divide and conquer method consists of a recursive splitting process.\n",
    "Sequantially each variable is moved to a new component. From all possible splits, the division that results in the largest increase in the log-evidence or the smallest decrease if no division results in an increase, is selected as the starting point in the next iteration.\n",
    "The process continues until all but one variables are moved and at the end we backtrack to the partition that had the largest log-evidence.\n",
    "If no split increased the log-evidence, the algorithm stops and otherwise the division procedure is repeated on both components separately.\n",
    "\n",
    "The methods requires a Data object as argument and optionally a Model object from which the partition is used as the starting partition of the algorithm.\n",
    "If no Model object is given, the complete model is chosen as the starting partition."
   ]
  },
  {
   "cell_type": "code",
   "execution_count": 48,
   "metadata": {},
   "outputs": [],
   "source": [
    "init_model = Model(n, \"complete\")\n",
    "final_model = searcher.divide_and_conquer(data, init_model)"
   ]
  },
  {
   "cell_type": "code",
   "execution_count": 45,
   "metadata": {},
   "outputs": [
    {
     "name": "stdout",
     "output_type": "stream",
     "text": [
      "The optimal partition of the variables found by the divide and conquer method is:\n"
     ]
    },
    {
     "data": {
      "text/plain": [
       "array([[1, 0, 1, 1, 1, 0, 1, 0, 0],\n",
       "       [0, 1, 0, 0, 0, 1, 0, 1, 1]], dtype=int8)"
      ]
     },
     "execution_count": 45,
     "metadata": {},
     "output_type": "execute_result"
    }
   ],
   "source": [
    "print(\"The optimal partition of the variables found by the divide and conquer method is:\")\n",
    "final_model.array"
   ]
  },
  {
   "cell_type": "code",
   "execution_count": 46,
   "metadata": {},
   "outputs": [
    {
     "data": {
      "text/plain": [
       "-3300.395469673639"
      ]
     },
     "execution_count": 46,
     "metadata": {},
     "output_type": "execute_result"
    }
   ],
   "source": [
    "final_model.get_best_log_evidence()"
   ]
  },
  {
   "cell_type": "code",
   "execution_count": 47,
   "metadata": {},
   "outputs": [
    {
     "data": {
      "text/plain": [
       "array([-1754.41166022, -1545.98380945])"
      ]
     },
     "execution_count": 47,
     "metadata": {},
     "output_type": "execute_result"
    }
   ],
   "source": [
    "final_model.get_best_log_evidence_icc()"
   ]
  },
  {
   "cell_type": "markdown",
   "metadata": {},
   "source": [
    "#### Simulated annealing\n",
    "\n",
    "The simulated annealing algorithm has several parameters that can be set.\n",
    "\n",
    "- SA_init_temperature : The initial annealing temperature (default = 100)\n",
    "- SA_max_iterations : The maximum number of iterations after which the algorithms stops (default = 50 000)\n",
    "- SA_update_schedule : The number of iterations before updating the temperature (default = 100)"
   ]
  },
  {
   "cell_type": "code",
   "execution_count": 50,
   "metadata": {},
   "outputs": [
    {
     "name": "stdout",
     "output_type": "stream",
     "text": [
      "best log-evidence: -4317.31\t@T = 100\ti = 0\n",
      "best log-evidence: -4025.41\t@T = 100\ti = 1\n",
      "best log-evidence: -3503.42\t@T = 100\ti = 2\n",
      "best log-evidence: -3305.55\t@T = 100\ti = 3\n",
      "best log-evidence: -3300.4\t@T = 14.9096\ti = 304\n",
      "\n",
      "- maximum iterations without improvement reached\n"
     ]
    }
   ],
   "source": [
    "final_model = searcher.simulated_annealing(data)"
   ]
  },
  {
   "cell_type": "code",
   "execution_count": 51,
   "metadata": {},
   "outputs": [
    {
     "name": "stdout",
     "output_type": "stream",
     "text": [
      "The optimal partition of the variables found by the simulated annealing algorithm is:\n"
     ]
    },
    {
     "data": {
      "text/plain": [
       "array([[1, 0, 1, 1, 1, 0, 1, 0, 0],\n",
       "       [0, 1, 0, 0, 0, 1, 0, 1, 1]], dtype=int8)"
      ]
     },
     "execution_count": 51,
     "metadata": {},
     "output_type": "execute_result"
    }
   ],
   "source": [
    "print(\"The optimal partition of the variables found by the simulated annealing algorithm is:\")\n",
    "final_model.array"
   ]
  },
  {
   "cell_type": "code",
   "execution_count": 52,
   "metadata": {},
   "outputs": [
    {
     "data": {
      "text/plain": [
       "-3300.395469673639"
      ]
     },
     "execution_count": 52,
     "metadata": {},
     "output_type": "execute_result"
    }
   ],
   "source": [
    "final_model.get_best_log_evidence()"
   ]
  },
  {
   "cell_type": "code",
   "execution_count": 53,
   "metadata": {},
   "outputs": [
    {
     "name": "stdout",
     "output_type": "stream",
     "text": [
      "The starting partition of the algorithm is:\n"
     ]
    },
    {
     "data": {
      "text/plain": [
       "array([[0, 1, 0, 1, 0, 0, 0, 0, 0],\n",
       "       [0, 0, 0, 0, 1, 0, 0, 1, 0],\n",
       "       [0, 0, 0, 0, 0, 0, 1, 0, 0],\n",
       "       [0, 0, 0, 0, 0, 1, 0, 0, 0],\n",
       "       [1, 0, 1, 0, 0, 0, 0, 0, 1]], dtype=int8)"
      ]
     },
     "execution_count": 53,
     "metadata": {},
     "output_type": "execute_result"
    }
   ],
   "source": [
    "init_model = searcher.get_model_in()\n",
    "print(\"The starting partition of the algorithm is:\")\n",
    "init_model.array"
   ]
  },
  {
   "cell_type": "markdown",
   "metadata": {},
   "source": [
    "#### Exhaustive search"
   ]
  },
  {
   "cell_type": "markdown",
   "metadata": {},
   "source": [
    "The exhaustive search involves generating all possible partitions and calculating their log evidence. As this algorithm goes through all possible partitions, it is guaranteed to find the best one. For a system with $n$ variables, the number of different partitions is given by the Bell number of $n$, making this approach unfeasible for large systems ($n > 15$).\n",
    "\n",
    "Because it goes through all possible partitions, the starting partition is irrelevant and no Model object should be given as input parameter"
   ]
  },
  {
   "cell_type": "code",
   "execution_count": 54,
   "metadata": {},
   "outputs": [],
   "source": [
    "final_model = searcher.exhaustive_search(data)"
   ]
  },
  {
   "cell_type": "code",
   "execution_count": 55,
   "metadata": {},
   "outputs": [
    {
     "name": "stdout",
     "output_type": "stream",
     "text": [
      "The optimal partition of the variables found by the simulated annealing algorithm is:\n"
     ]
    },
    {
     "data": {
      "text/plain": [
       "array([[1, 0, 1, 1, 1, 0, 1, 0, 0],\n",
       "       [0, 1, 0, 0, 0, 1, 0, 1, 1]], dtype=int8)"
      ]
     },
     "execution_count": 55,
     "metadata": {},
     "output_type": "execute_result"
    }
   ],
   "source": [
    "print(\"The optimal partition of the variables found by the simulated annealing algorithm is:\")\n",
    "final_model.array"
   ]
  },
  {
   "cell_type": "code",
   "execution_count": 56,
   "metadata": {},
   "outputs": [
    {
     "data": {
      "text/plain": [
       "array([-3305.54657591, -3539.81806525, -3567.68653215, ...,\n",
       "       -5202.81873422, -4977.24745505, -5258.10024044])"
      ]
     },
     "execution_count": 56,
     "metadata": {},
     "output_type": "execute_result"
    }
   ],
   "source": [
    "searcher.log_evidence_trajectory"
   ]
  },
  {
   "cell_type": "code",
   "execution_count": null,
   "metadata": {},
   "outputs": [],
   "source": []
  }
 ],
 "metadata": {
  "kernelspec": {
   "display_name": "mcm_discrete",
   "language": "python",
   "name": "python3"
  },
  "language_info": {
   "codemirror_mode": {
    "name": "ipython",
    "version": 3
   },
   "file_extension": ".py",
   "mimetype": "text/x-python",
   "name": "python",
   "nbconvert_exporter": "python",
   "pygments_lexer": "ipython3",
   "version": "3.11.7"
  }
 },
 "nbformat": 4,
 "nbformat_minor": 2
}
